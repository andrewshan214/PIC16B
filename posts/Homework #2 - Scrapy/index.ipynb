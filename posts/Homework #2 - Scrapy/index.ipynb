{
 "cells": [
  {
   "attachments": {},
   "cell_type": "markdown",
   "metadata": {},
   "source": [
    "---\n",
    "title: \"Homework 2 - Scrapy\"\n",
    "author: \"Andrew Han\"\n",
    "date: \"2024-02-05\"\n",
    "categories: [week 5, homework]\n",
    "---"
   ]
  },
  {
   "attachments": {},
   "cell_type": "markdown",
   "metadata": {},
   "source": [
    "# Introduction\n",
    "\n",
    "https://andrewshan214.github.io/PIC16B/posts/Homework%20#2%20-%20Scrapy/index.ipynb\n",
    "\n",
    "In this blog post, I will be giving a tutorial on how to write a spider in scrapy to scrape information from a movie database. More specifically, I will be demonstrating using Christopher Nolan's \"The Dark Knight\", one of my favorite movies. Using the data that I scrape, I will create a chart to suggest movies based on the actors in \"The Dark Knight\"."
   ]
  },
  {
   "attachments": {},
   "cell_type": "markdown",
   "metadata": {},
   "source": [
    "# Writing the movie database parse() function\n",
    "\n",
    "First we write the initial parse() function, shown below:"
   ]
  },
  {
   "cell_type": "code",
   "execution_count": null,
   "metadata": {},
   "outputs": [],
   "source": [
    "def parse(self, response):\n",
    "        cast_crew_url = f\"https://www.themoviedb.org/movie/155-the-dark-knight/cast\"\n",
    "        yield scrapy.Request(cast_crew_url, callback=self.parse_full_credits)"
   ]
  },
  {
   "attachments": {},
   "cell_type": "markdown",
   "metadata": {},
   "source": [
    "This method works by saving the url of the full cast and crew page of the movie website. I use scrapy's built in functions to go into this website and call a second parse function that will save all of the nanmes of those that acted in the movie. The implementation of the second parse function is below."
   ]
  },
  {
   "attachments": {},
   "cell_type": "markdown",
   "metadata": {},
   "source": [
    "# parse_full_credits function implementation"
   ]
  },
  {
   "cell_type": "code",
   "execution_count": null,
   "metadata": {},
   "outputs": [],
   "source": [
    "def parse_full_credits(self, response):\n",
    "        for cast_member in response.css(\"ol.people.credits li\"):\n",
    "            actor_url = cast_member.css('a::attr(href)').get()\n",
    "\n",
    "            if actor_url:\n",
    "                yield scrapy.Request(url=response.urljoin(actor_url), callback=self.parse_actor_page)"
   ]
  },
  {
   "attachments": {},
   "cell_type": "markdown",
   "metadata": {},
   "source": [
    "Firstly, I iterated through all of the actors by using the css identifier of only actors by looking at the html code in the movie cast website. While iterating, I saved each actor's unique page url in a variable. Using that url variable, I used Scrapy's request function to go into the actor's page. \n",
    "\n",
    "In this page, I called a third parse function."
   ]
  },
  {
   "attachments": {},
   "cell_type": "markdown",
   "metadata": {},
   "source": [
    "# parse_actor_page function implementation"
   ]
  },
  {
   "cell_type": "code",
   "execution_count": null,
   "metadata": {},
   "outputs": [],
   "source": [
    "def parse_actor_page(self, response):\n",
    "        actor_name = response.css('div.title h2.title a::text').get()\n",
    "\n",
    "        acting_roles = response.css('div.credits_list h3.zero:contains(\"Acting\")')\n",
    "        \n",
    "        if acting_roles:\n",
    "            for acting_role in acting_roles.xpath('./following-sibling::table[@class=\"card credits\"]//table[@class=\"credit_group\"]'):\n",
    "                movie_name = acting_role.css('td.role a.tooltip bdi::text').get()\n",
    "\n",
    "                if movie_name:\n",
    "                    yield {\n",
    "                        'actor': actor_name,\n",
    "                        'movie_or_TV_name': movie_name,\n",
    "                    }"
   ]
  },
  {
   "attachments": {},
   "cell_type": "markdown",
   "metadata": {},
   "source": [
    "I implemented this by first getting the actor's name by using the css identifier from the website.\n",
    "\n",
    "Next, I sorted through only this actor's acting roles by using the css identifier for acting roles, which was \"Zero\". I iterated through all of these acting roles, and got each movie name, and yielded them into a dictionary of the actor's name and the movies they've acted in."
   ]
  }
 ],
 "metadata": {
  "kernelspec": {
   "display_name": "Python 3",
   "language": "python",
   "name": "python3"
  },
  "language_info": {
   "name": "python",
   "version": "3.11.2 (v3.11.2:878ead1ac1, Feb  7 2023, 10:02:41) [Clang 13.0.0 (clang-1300.0.29.30)]"
  },
  "orig_nbformat": 4,
  "vscode": {
   "interpreter": {
    "hash": "aee8b7b246df8f9039afb4144a1f6fd8d2ca17a180786b69acc140d282b71a49"
   }
  }
 },
 "nbformat": 4,
 "nbformat_minor": 2
}
