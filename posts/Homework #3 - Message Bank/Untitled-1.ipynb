{
 "cells": [
  {
   "cell_type": "markdown",
   "metadata": {},
   "source": [
    "---\n",
    "title: \"Message bank Tutorial\"\n",
    "author: \"Andrew Han\"\n",
    "date: \"2024-02-21\"\n",
    "categories: [week 5, homework]\n",
    "---"
   ]
  },
  {
   "attachments": {},
   "cell_type": "markdown",
   "metadata": {},
   "source": [
    "# Introduction\n",
    "\n",
    "In this blog post, I will be giving a short tutorial on how to make a simple message bank using Python's Flask library, as well as incorporating HTML and CSS files to develop a webpage\n",
    "\n",
    "First, we create the necessary files. To start we will create our app.py file, which will be a Python script file that will be running the Flask library tasks. Please see below."
   ]
  },
  {
   "cell_type": "code",
   "execution_count": null,
   "metadata": {},
   "outputs": [],
   "source": [
    "from flask import Flask, render_template, request\n",
    "from flask import redirect, url_for, abort\n",
    "from flask import g\n",
    "import sqlite3\n",
    "\n",
    "app = Flask(__name__)"
   ]
  },
  {
   "attachments": {},
   "cell_type": "markdown",
   "metadata": {},
   "source": [
    "# Going through app.py file\n",
    "\n",
    "Along with importing the necessary libraries, we must define a few functions and databases for our message bank. Please see the comments above each function to understand what each function is doing in the context of the webpage."
   ]
  },
  {
   "cell_type": "code",
   "execution_count": null,
   "metadata": {},
   "outputs": [],
   "source": [
    "# Create a sqlite3 database to handle all of the submitted messages\n",
    "DATABASE = 'messages_db.sqlite'\n",
    "\n",
    "# This function checks for the existence of a message_db in the global 'g' object. It then closes the database connection if it sees its existence.\n",
    "@app.teardown_appcontext\n",
    "def close_db(error):\n",
    "    if hasattr(g, 'message_db'):\n",
    "        g.message_db.close()\n",
    "\n",
    "@app.route('/') # @app.route essentially tells the code what the end of the url of this particular page would be. \n",
    "# Because this is the base 'Home' page, we use a simple '/' to conclude the url.\n",
    "def base():\n",
    "    #Uses Flask's render_template function to render the base.html file\n",
    "    return render_template('base.html')\n"
   ]
  },
  {
   "attachments": {},
   "cell_type": "markdown",
   "metadata": {},
   "source": [
    "# Connection between app.py and each page's html file.\n",
    "\n",
    "After defining a base() function, we must accompany it with an html file to tell the website what to display on this page. See below for the code for base.html."
   ]
  },
  {
   "cell_type": "code",
   "execution_count": null,
   "metadata": {
    "vscode": {
     "languageId": "html"
    }
   },
   "outputs": [],
   "source": [
    "<!doctype html>\n",
    "<link rel=\"stylesheet\" href=\"{{ url_for('static', filename='style.css') }}\">\n",
    "<title>{% block title %}{% endblock %} - PIC16B Website</title>\n",
    "<nav>\n",
    "    <h1>PIC16B Message Bank!</h1>\n",
    "    <ul>\n",
    "        <li><a href=\"{{ url_for('base') }}\">Main page</a></li>\n",
    "        <li><a href=\"{{ url_for('submit_message')}}\">Submit Message</a></li>\n",
    "        <li><a href=\"{{ url_for('render_view_template') }}\">View Messages</a></li>\n",
    "    </ul>\n",
    "<nav>\n",
    "<section class=\"content\">\n",
    "    <header>\n",
    "    {% block header %}{% endblock %}\n",
    "    </header>\n",
    "    {% block content %}{% endblock %}\n",
    "</section>"
   ]
  },
  {
   "attachments": {},
   "cell_type": "markdown",
   "metadata": {},
   "source": [
    "# base.html\n",
    "\n",
    "What this code is doing is both serving as a base for additional html files, as well as formatting the base page. It lays out a page title, as well as navigation functionality to visit other pages. See below for the app.py function that renders the message submission page, as well as the accompanying submit.html file."
   ]
  },
  {
   "cell_type": "code",
   "execution_count": null,
   "metadata": {},
   "outputs": [],
   "source": [
    "# Like before, we use @app.route. \n",
    "#However, now we must define the methods to ensure that user submission is possible by adding methods=['GET, POST']\n",
    "\n",
    "@app.route('/submit/', methods=['GET', 'POST'])\n",
    "def submit_message():\n",
    "    #different methods for diff request methods\n",
    "    if request.method == 'GET':\n",
    "        #if 'GET' just render the template\n",
    "        return render_template('submit.html')\n",
    "    \n",
    "    else:\n",
    "        try:\n",
    "            handle, message = insert_message(request)\n",
    "            #render the template with a thank you note\n",
    "            return render_template('submit.html', thank_you = True, message = message, handle = handle)\n",
    "        except:\n",
    "            return render_template('submit.html', error=True)"
   ]
  },
  {
   "cell_type": "code",
   "execution_count": null,
   "metadata": {
    "vscode": {
     "languageId": "html"
    }
   },
   "outputs": [],
   "source": [
    "{% extends \"base.html\" %} \n",
    "\n",
    "{% block header %}\n",
    "  <h1>{% block title %}Submit Message{% endblock %}</h1>\n",
    "{% endblock %}\n",
    "\n",
    "{% block content %}\n",
    "    <form action=\"/submit\" method=\"post\">\n",
    "        <label for=\"message\">Message:</label><br>\n",
    "        <input type=\"text\" id=\"message\" name=\"message\"><br>\n",
    "        <label for=\"name\">Name:</label><br>\n",
    "        <input type=\"text\" id=\"name\" name=\"name\"><br>\n",
    "        <input type=\"submit\" value=\"Submit\">\n",
    "    </form>\n",
    "{% endblock %}"
   ]
  },
  {
   "attachments": {},
   "cell_type": "markdown",
   "metadata": {},
   "source": [
    "# Message Submission Page\n",
    "\n",
    "This page is run by the function submit_message(), which essentially receives a message from the user and renders the submit.html page. The submit.html file \"extends\" the base.html file, which essentially means that many components, like the style.css, is automatically transferred from the base.html file to submit.html. See below for a screenshot of this page."
   ]
  },
  {
   "attachments": {},
   "cell_type": "markdown",
   "metadata": {},
   "source": [
    "#%%[markdown]\n",
    "\n",
    "![MessageSubmission](/Users/andrewhan/Desktop/MessageSubmissionSS.png)"
   ]
  },
  {
   "attachments": {},
   "cell_type": "markdown",
   "metadata": {},
   "source": [
    "\n",
    "# Database Management\n",
    "\n",
    "See below for the code for inserting a message into the SQL message database."
   ]
  },
  {
   "cell_type": "code",
   "execution_count": null,
   "metadata": {},
   "outputs": [],
   "source": [
    "@app.route('/getmsg/', methods=['GET'])\n",
    "def get_message_db():\n",
    "\n",
    "    #try to retrieve database connection from global g object\n",
    "    try:\n",
    "        db = g.message_db\n",
    "    except AttributeError:\n",
    "        db = g.message_db = sqlite3.connect(DATABASE)\n",
    "        db.execute('''\n",
    "            CREATE TABLE IF NOT EXISTS messages (\n",
    "                id INTEGER PRIMARY KEY,\n",
    "                handle TEXT,\n",
    "                message TEXT\n",
    "            )\n",
    "        ''')\n",
    "    return db\n",
    "\n",
    "@app.route('/insert_msg/', methods=['POST'])\n",
    "def insert_message(request):\n",
    "    # get message and handle from request\n",
    "    try:\n",
    "        message = request.form['message']\n",
    "        handle = request.form['name']\n",
    "\n",
    "        db = get_message_db()\n",
    "        cursor = db.cursor()\n",
    "        cursor.execute(\"INSERT INTO messages (handle, message) VALUES (?, ?)\", (handle, message))\n",
    "        db.commit()\n",
    "\n",
    "        return redirect('/submit/')\n",
    "    except Exception as e:\n",
    "        return render_template('submit.html', error=True)"
   ]
  },
  {
   "attachments": {},
   "cell_type": "markdown",
   "metadata": {},
   "source": [
    "# insert_message(request)\n",
    "\n",
    "What this function does is connect to the message database and inserts the user-inputted message into the database so that it can be displayed in the message viewing page. \n",
    "\n",
    "See below for how the message viewing page is run."
   ]
  },
  {
   "attachments": {},
   "cell_type": "markdown",
   "metadata": {},
   "source": [
    "# Random Messages Page"
   ]
  },
  {
   "cell_type": "code",
   "execution_count": null,
   "metadata": {},
   "outputs": [],
   "source": [
    "@app.route('/random_messages/<int:n>')\n",
    "def random_message(n):\n",
    "    db = get_message_db()\n",
    "    cursor = db.cursor()\n",
    "    cursor.execute(\"SELECT * FROM messages ORDER BY RANDOM() LIMIT ?\", (n,))\n",
    "    messages = cursor.fetchall()\n",
    "    return render_template('view.html', messages=messages)\n",
    "\n",
    "\n",
    "@app.route('/random_messages/')\n",
    "def render_view_template():\n",
    "    messages = random_message(5)\n",
    "\n",
    "    return render_template('view.html', messages = messages)"
   ]
  },
  {
   "attachments": {},
   "cell_type": "markdown",
   "metadata": {},
   "source": [
    "These functions connect to the message database to return and render a list of previously inputted, randomly selected messages to the user. See below for the view.html file."
   ]
  },
  {
   "cell_type": "code",
   "execution_count": null,
   "metadata": {
    "vscode": {
     "languageId": "html"
    }
   },
   "outputs": [],
   "source": [
    "{% extends \"base.html\" %}\n",
    "\n",
    "{% block content %}\n",
    "    <h2>Random Messages</h2>\n",
    "    <ul>\n",
    "        {% for message in messages %}\n",
    "            <li>\n",
    "                <strong>{{ message.handle }}</strong> - {{ message.message }}\n",
    "            </li>\n",
    "        {% endfor %}\n",
    "    </ul>\n",
    "{% endblock %}"
   ]
  },
  {
   "attachments": {},
   "cell_type": "markdown",
   "metadata": {},
   "source": [
    "# view.html\n",
    "\n",
    "This code also \"extends\" base.html. This html code is much simpler as it simply lists the previous messages, and doesn't need to receive any information from the website user. See an example below."
   ]
  },
  {
   "attachments": {},
   "cell_type": "markdown",
   "metadata": {},
   "source": [
    "#%%[markdown]\n",
    "Random\n",
    "![MessageSubmission](/Users/andrewhan/Desktop/RandomMessagesSS.png)"
   ]
  },
  {
   "attachments": {},
   "cell_type": "markdown",
   "metadata": {},
   "source": [
    "# style.css\n",
    "\n",
    "We have now seen how the website functions on the back-end with the database management and user inputs. However, this must all be presentable. As I mentioned earlier, the base.html file is accompanies by a style.css file. See below for the css code."
   ]
  },
  {
   "cell_type": "code",
   "execution_count": null,
   "metadata": {
    "vscode": {
     "languageId": "html"
    }
   },
   "outputs": [],
   "source": [
    "/* Import a custom font from Google Fonts */\n",
    "@import url('https://fonts.googleapis.com/css2?family=Roboto:wght@400;700&display=swap');\n",
    "\n",
    "/* Apply the custom font to the entire body */\n",
    "body {\n",
    "    font-family: 'Roboto', sans-serif;\n",
    "    background-color: #f0f0f0; /* Light gray background */\n",
    "    color: #333; /* Dark gray text */\n",
    "}\n",
    "\n",
    "/* Style the navigation bar */\n",
    "nav {\n",
    "    background-color: #333; /* Dark background color */\n",
    "    color: white; /* White text */\n",
    "    padding: 10px;\n",
    "}\n",
    "\n",
    "/* Style navigation links */\n",
    "nav a {\n",
    "    color: white; /* White text */\n",
    "    text-decoration: none; /* Remove underline */\n",
    "    margin-right: 10px; /* Add some margin between links */\n",
    "}\n",
    "\n",
    "/* Style the header section */\n",
    "header {\n",
    "    background-color: #007bff; /* Blue background color */\n",
    "    color: white; /* White text */\n",
    "    padding: 20px;\n",
    "    text-align: center; /* Center align text */\n",
    "}\n",
    "\n",
    "/* Add some margin around the content */\n",
    ".content {\n",
    "    margin: 20px;\n",
    "}\n",
    "\n",
    "/* Style forms */\n",
    "form {\n",
    "    margin-bottom: 20px; /* Add margin below forms */\n",
    "}\n",
    "\n",
    "/* Style text inputs and buttons */\n",
    "input[type=\"text\"], button {\n",
    "    padding: 10px;\n",
    "    margin-right: 10px;\n",
    "}\n",
    "\n",
    "/* Style buttons */\n",
    "button {\n",
    "    background-color: #007bff; /* Blue background color */\n",
    "    color: white; /* White text */\n",
    "    border: none; /* Remove border */\n",
    "    cursor: pointer; /* Change cursor to pointer */\n",
    "}\n",
    "\n",
    "/* Change button color on hover */\n",
    "button:hover {\n",
    "    background-color: #0056b3; /* Darker blue on hover */\n",
    "}\n",
    "\n",
    "/* Style unordered lists */\n",
    "ul {\n",
    "    list-style-type: none; /* Remove bullet points */\n",
    "    padding: 0; /* Remove default padding */\n",
    "}\n",
    "\n",
    "/* Add some margin below list items */\n",
    "li {\n",
    "    margin-bottom: 10px;\n",
    "}"
   ]
  },
  {
   "attachments": {},
   "cell_type": "markdown",
   "metadata": {},
   "source": [
    "This code goes through many different customizations, such as font type, font size and color, page color, etc."
   ]
  },
  {
   "attachments": {},
   "cell_type": "markdown",
   "metadata": {},
   "source": [
    "# Conclusion\n",
    "\n",
    "As we can see, there are many different things to account for in web development. Hopefully, this blog post was informational and helpful in developing your next webpage. Thank you!\n",
    "\n",
    "- Andrew Han"
   ]
  }
 ],
 "metadata": {
  "kernelspec": {
   "display_name": "Python 3",
   "language": "python",
   "name": "python3"
  },
  "language_info": {
   "name": "python",
   "version": "3.11.2 (v3.11.2:878ead1ac1, Feb  7 2023, 10:02:41) [Clang 13.0.0 (clang-1300.0.29.30)]"
  },
  "orig_nbformat": 4,
  "vscode": {
   "interpreter": {
    "hash": "aee8b7b246df8f9039afb4144a1f6fd8d2ca17a180786b69acc140d282b71a49"
   }
  }
 },
 "nbformat": 4,
 "nbformat_minor": 2
}
